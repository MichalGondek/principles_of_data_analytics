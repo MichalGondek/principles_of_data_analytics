{
 "cells": [
  {
   "cell_type": "markdown",
   "metadata": {},
   "source": [
    "# Principles of Data Analytics Iris Dataset Assignement\n",
    "\n",
    "# Author: Michal Gondek"
   ]
  },
  {
   "cell_type": "markdown",
   "metadata": {},
   "source": [
    "# Task 1: Source the Data Set"
   ]
  },
  {
   "cell_type": "markdown",
   "metadata": {},
   "source": [
    "Import the Iris data set from the sklearn.datasets module.\n",
    "Explain, in your own words, what the load_iris() function returns."
   ]
  },
  {
   "cell_type": "code",
   "execution_count": 27,
   "metadata": {},
   "outputs": [],
   "source": [
    "# Load the Iris Data set\n",
    "import pandas as pd\n",
    "from sklearn.datasets import load_iris\n",
    "import pandas as pd\n",
    "import numpy as np\n",
    "import matplotlib.pyplot as plt\n",
    "import seaborn as sns\n",
    "\n",
    "iris = load_iris()\n",
    "\n",
    "# I will use df.pd.DataFrame(data) to make the data clear and more easy to read\n",
    "# Reference:https://www.w3schools.com/python/pandas/pandas_dataframe\n",
    "\n",
    "df = pd.DataFrame(iris.data, columns=iris.feature_names)\n",
    "df['target'] = iris.target\n",
    "\n",
    "\n",
    "# The Iris data set loaded from sklearn.datasets is used to study the relationship between flower measurements and their species. \n",
    "# It helps us determine which species a flower belongs to, based on the size of its petals and sepals.\n",
    "# There are 3 species of the Iris flower: 1.Setosa 2.Versicolor 3.Virginica\n",
    "# Each sample has 4 measurements: 1.Sepal Lenght 2.Sepal Width 3.Petal Length 4.Petal Width\n",
    "# The main use for this data set is to predict a species of Iris Flower just from using its measurements"
   ]
  },
  {
   "cell_type": "markdown",
   "metadata": {},
   "source": [
    "# Task 2: Explore the Data Structure"
   ]
  },
  {
   "cell_type": "markdown",
   "metadata": {},
   "source": [
    "Print and explain the shape of the data set, the first and last 5 rows of the data, the feature names, and the target classes."
   ]
  },
  {
   "cell_type": "code",
   "execution_count": 28,
   "metadata": {},
   "outputs": [
    {
     "name": "stdout",
     "output_type": "stream",
     "text": [
      "DataSet Overview:\n",
      "-------------------\n",
      "Total Samples: 150\n",
      "-------------------\n",
      "Total Features: 5\n",
      "-------------------\n",
      "First Rows:\n",
      "------------------------------------------------------------------------------\n",
      "   sepal length (cm)  sepal width (cm)  petal length (cm)  petal width (cm)  \\\n",
      "0                5.1               3.5                1.4               0.2   \n",
      "1                4.9               3.0                1.4               0.2   \n",
      "2                4.7               3.2                1.3               0.2   \n",
      "3                4.6               3.1                1.5               0.2   \n",
      "4                5.0               3.6                1.4               0.2   \n",
      "\n",
      "   target  \n",
      "0       0  \n",
      "1       0  \n",
      "2       0  \n",
      "3       0  \n",
      "4       0  \n",
      "------------------------------------------------------------------------------\n",
      "     sepal length (cm)  sepal width (cm)  petal length (cm)  petal width (cm)  \\\n",
      "145                6.7               3.0                5.2               2.3   \n",
      "146                6.3               2.5                5.0               1.9   \n",
      "147                6.5               3.0                5.2               2.0   \n",
      "148                6.2               3.4                5.4               2.3   \n",
      "149                5.9               3.0                5.1               1.8   \n",
      "\n",
      "     target  \n",
      "145       2  \n",
      "146       2  \n",
      "147       2  \n",
      "148       2  \n",
      "149       2  \n",
      "-------------------\n",
      "-sepal length (cm)\n",
      "-sepal width (cm)\n",
      "-petal length (cm)\n",
      "-petal width (cm)\n",
      "Target:\n",
      "-------------------\n",
      "Class 0: setosa\n",
      "-------------------\n",
      "Class 1: versicolor\n",
      "-------------------\n",
      "Class 2: virginica\n",
      "-------------------\n"
     ]
    }
   ],
   "source": [
    "print('DataSet Overview:')\n",
    "print(\"-------------------\")\n",
    "print(f'Total Samples: {df.shape[0]}')\n",
    "print(\"-------------------\")\n",
    "print(f'Total Features: {df.shape[1]}')\n",
    "print(\"-------------------\")\n",
    "print('First Rows:')\n",
    "print(\"------------------------------------------------------------------------------\")\n",
    "print(df.head())\n",
    "print(\"------------------------------------------------------------------------------\")\n",
    "print(df.tail())\n",
    "print(\"-------------------\")\n",
    "\n",
    "for name in iris.feature_names:\n",
    "    print(f'-{name}')\n",
    "    (\"-------------------\")\n",
    "print ('Target:')\n",
    "print(\"-------------------\")\n",
    "for i, name in enumerate(iris.target_names):\n",
    "    print(f'Class {i}: {name}')\n",
    "    print(\"-------------------\")  \n"
   ]
  },
  {
   "cell_type": "markdown",
   "metadata": {},
   "source": [
    "# Task 3: Summarize the Data"
   ]
  },
  {
   "cell_type": "markdown",
   "metadata": {},
   "source": [
    "For each feature in the dataset, calculate and display:\n",
    "\n",
    "mean\n",
    "minimum\n",
    "maximum\n",
    "standard deviation\n",
    "median\n"
   ]
  },
  {
   "cell_type": "code",
   "execution_count": 5,
   "metadata": {},
   "outputs": [
    {
     "name": "stdout",
     "output_type": "stream",
     "text": [
      "Summary of Features\n",
      "-------------------------\n",
      "sepal length (cm)\t|\n",
      " Mean: 5.84\t\t|\n",
      " Min: 4.3\t\t|\n",
      " Max: 7.9\t\t|\n",
      " Std Dev: 0.83\t\t|\n",
      " Median: 5.8\t\t|\n",
      "-------------------------\n",
      "sepal width (cm)\t|\n",
      " Mean: 3.06\t\t|\n",
      " Min: 2.0\t\t|\n",
      " Max: 4.4\t\t|\n",
      " Std Dev: 0.44\t\t|\n",
      " Median: 3.0\t\t|\n",
      "-------------------------\n",
      "petal length (cm)\t|\n",
      " Mean: 3.76\t\t|\n",
      " Min: 1.0\t\t|\n",
      " Max: 6.9\t\t|\n",
      " Std Dev: 1.77\t\t|\n",
      " Median: 4.35\t\t|\n",
      "-------------------------\n",
      "petal width (cm)\t|\n",
      " Mean: 1.2\t\t|\n",
      " Min: 0.1\t\t|\n",
      " Max: 2.5\t\t|\n",
      " Std Dev: 0.76\t\t|\n",
      " Median: 1.3\t\t|\n",
      "-------------------------\n"
     ]
    }
   ],
   "source": [
    "print(\"Summary of Features\")\n",
    "print(\"-------------------------\")\n",
    "for feature in iris.feature_names:\n",
    "        data = df[feature]\n",
    "#       Average value\n",
    "        mean = round(data.mean(), 2) \n",
    "#       Smallest value     \n",
    "        min_val = round(data.min(), 2)\n",
    "#       Largest value    \n",
    "        max_val = round(data.max(), 2) \n",
    "#       Standard deviation   \n",
    "        std_dev = round(data.std(), 2)  \n",
    "#       Median value\n",
    "        median = round(data.median(), 2) \n",
    "\n",
    "        print(f\"{feature}\\t|\")\n",
    "        print(f\" Mean: {mean}\\t\\t|\")\n",
    "        print(f\" Min: {min_val}\\t\\t|\")\n",
    "        print(f\" Max: {max_val}\\t\\t|\")\n",
    "        print(f\" Std Dev: {std_dev}\\t\\t|\")\n",
    "        print(f\" Median: {median}\\t\\t|\")\n",
    "        print(\"-------------------------\")\n",
    "\n"
   ]
  },
  {
   "cell_type": "markdown",
   "metadata": {},
   "source": [
    "# Task 4: Visualize Features"
   ]
  },
  {
   "cell_type": "markdown",
   "metadata": {},
   "source": [
    "Plot histograms for each feature using matplotlib.\n",
    "Add appropriate titles and axis labels."
   ]
  },
  {
   "cell_type": "code",
   "execution_count": 6,
   "metadata": {},
   "outputs": [],
   "source": [
    "for feature in iris.feature_names:\n",
    "    plt.figure()\n",
    "    plt.hist(df[feature],bins=10, color='green', edgecolor='black')\n",
    "    plt.title(f'Histogram of {feature}')\n",
    "    plt.xlabel(feature)\n",
    "    plt.ylabel('Frequency')\n",
    "    plt.grid(True)\n",
    "    plt.tight_layout()\n",
    "    plt.savefig(f'hist_{feature.replace(' ','_')}.png')\n",
    "    plt.close()\n",
    "    "
   ]
  },
  {
   "cell_type": "markdown",
   "metadata": {},
   "source": [
    "# Task 5: Investigate Relationships"
   ]
  },
  {
   "cell_type": "markdown",
   "metadata": {},
   "source": [
    "Choose any two features from the data set and create a scatter plot of them.\n",
    "Color-code the three different classes of the scatter plot points.\n",
    "https://www.w3schools.com/python/matplotlib_scatter.asp"
   ]
  },
  {
   "cell_type": "code",
   "execution_count": 20,
   "metadata": {},
   "outputs": [],
   "source": [
    "\n",
    "x_label = iris.feature_names[0]\n",
    "y_label = iris.feature_names[1]\n",
    "plt.figure()\n",
    "for target_value, target_name in enumerate(iris.target_names):\n",
    "    subset = df[df['target'] == target_value]\n",
    "    plt.scatter(subset[x_label], subset[y_label], label=target_name)\n",
    "\n",
    "plt.xlabel(x_label)\n",
    "plt.ylabel(y_label)\n",
    "plt.title(f'{x_label} vs {y_label}')\n",
    "plt.legend()\n",
    "plt.grid(True)\n",
    "plt.tight_layout()\n",
    "plt.savefig('scatter_plot.png')\n",
    "plt.close()\n"
   ]
  },
  {
   "cell_type": "markdown",
   "metadata": {},
   "source": [
    "# Task 6: Analyze Relationship"
   ]
  },
  {
   "cell_type": "markdown",
   "metadata": {},
   "source": [
    "Use numpy.polyfit to add a regression line to the scatter plot from Task 5.\n",
    "https://numpy.org/doc/stable/reference/generated/numpy.polyfit.html"
   ]
  },
  {
   "cell_type": "code",
   "execution_count": 19,
   "metadata": {},
   "outputs": [],
   "source": [
    "\n",
    "x_label = iris.feature_names[0] \n",
    "y_label = iris.feature_names[1]  \n",
    "\n",
    "x = df[x_label]\n",
    "y = df[y_label]\n",
    "\n",
    "m,c = np.polyfit(x, y, 1)\n",
    "\n",
    "plt.figure()\n",
    "for target_value, target_name in enumerate(iris.target_names):\n",
    "    subset = df[df['target'] == target_value]\n",
    "    plt.scatter(subset[x_label], subset[y_label], label=target_name)\n",
    "\n",
    "plt.plot(x, m* x + c, color='red', label='Regression Line')\n",
    "\n",
    "plt.xlabel(x_label)\n",
    "plt.ylabel(y_label)\n",
    "plt.title(f'{x_label} vs {y_label}')\n",
    "plt.legend()\n",
    "plt.grid(True)\n",
    "plt.tight_layout()\n",
    "plt.savefig('regression_line.png')\n",
    "plt.close()"
   ]
  },
  {
   "cell_type": "markdown",
   "metadata": {},
   "source": [
    "# Task 7: Analyze Class Distributions"
   ]
  },
  {
   "cell_type": "markdown",
   "metadata": {},
   "source": [
    "Create box-plots of the petal lengths for each of the three classes.\n",
    "https://matplotlib.org/stable/api/_as_gen/matplotlib.pyplot.figure.html\n",
    "https://www.geeksforgeeks.org/boxplot-using-seaborn-in-python/"
   ]
  },
  {
   "cell_type": "code",
   "execution_count": 39,
   "metadata": {},
   "outputs": [],
   "source": [
    "plt.figure()\n",
    "sns.boxplot(x='target', y='petal length (cm)', data=df)\n",
    "plt.title('Box Plot Petal By Class')\n",
    "plt.xlabel('Iris Class')\n",
    "plt.ylabel('petal length (cm)')\n",
    "plt.tight_layout()\n",
    "plt.savefig('boxplot_petal.png')\n",
    "plt.close()"
   ]
  },
  {
   "cell_type": "markdown",
   "metadata": {},
   "source": [
    "# Task 8: Compute Correlations "
   ]
  },
  {
   "cell_type": "markdown",
   "metadata": {},
   "source": [
    "# Task 9: Fit a Simple Linear Regression"
   ]
  },
  {
   "cell_type": "markdown",
   "metadata": {},
   "source": [
    "# Task 10: Too Many Features"
   ]
  },
  {
   "cell_type": "markdown",
   "metadata": {},
   "source": [
    "## End"
   ]
  }
 ],
 "metadata": {
  "kernelspec": {
   "display_name": "Python 3",
   "language": "python",
   "name": "python3"
  },
  "language_info": {
   "codemirror_mode": {
    "name": "ipython",
    "version": 3
   },
   "file_extension": ".py",
   "mimetype": "text/x-python",
   "name": "python",
   "nbconvert_exporter": "python",
   "pygments_lexer": "ipython3",
   "version": "3.12.1"
  }
 },
 "nbformat": 4,
 "nbformat_minor": 2
}
